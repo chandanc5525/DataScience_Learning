{
 "cells": [
  {
   "cell_type": "code",
   "execution_count": 167,
   "metadata": {
    "scrolled": true
   },
   "outputs": [
    {
     "data": {
      "text/html": [
       "<div>\n",
       "<style scoped>\n",
       "    .dataframe tbody tr th:only-of-type {\n",
       "        vertical-align: middle;\n",
       "    }\n",
       "\n",
       "    .dataframe tbody tr th {\n",
       "        vertical-align: top;\n",
       "    }\n",
       "\n",
       "    .dataframe thead th {\n",
       "        text-align: right;\n",
       "    }\n",
       "</style>\n",
       "<table border=\"1\" class=\"dataframe\">\n",
       "  <thead>\n",
       "    <tr style=\"text-align: right;\">\n",
       "      <th></th>\n",
       "      <th>customerID</th>\n",
       "      <th>gender</th>\n",
       "      <th>SeniorCitizen</th>\n",
       "      <th>Partner</th>\n",
       "      <th>Dependents</th>\n",
       "      <th>tenure</th>\n",
       "      <th>PhoneService</th>\n",
       "      <th>MultipleLines</th>\n",
       "      <th>InternetService</th>\n",
       "      <th>OnlineSecurity</th>\n",
       "      <th>OnlineBackup</th>\n",
       "      <th>DeviceProtection</th>\n",
       "      <th>TechSupport</th>\n",
       "      <th>StreamingTV</th>\n",
       "      <th>StreamingMovies</th>\n",
       "      <th>Contract</th>\n",
       "      <th>PaperlessBilling</th>\n",
       "      <th>PaymentMethod</th>\n",
       "      <th>MonthlyCharges</th>\n",
       "      <th>TotalCharges</th>\n",
       "      <th>Churn</th>\n",
       "    </tr>\n",
       "  </thead>\n",
       "  <tbody>\n",
       "    <tr>\n",
       "      <th>0</th>\n",
       "      <td>7590-VHVEG</td>\n",
       "      <td>Female</td>\n",
       "      <td>0</td>\n",
       "      <td>Yes</td>\n",
       "      <td>No</td>\n",
       "      <td>1</td>\n",
       "      <td>No</td>\n",
       "      <td>No phone service</td>\n",
       "      <td>DSL</td>\n",
       "      <td>No</td>\n",
       "      <td>Yes</td>\n",
       "      <td>No</td>\n",
       "      <td>No</td>\n",
       "      <td>No</td>\n",
       "      <td>No</td>\n",
       "      <td>Month-to-month</td>\n",
       "      <td>Yes</td>\n",
       "      <td>Electronic check</td>\n",
       "      <td>29.85</td>\n",
       "      <td>29.85</td>\n",
       "      <td>No</td>\n",
       "    </tr>\n",
       "    <tr>\n",
       "      <th>1</th>\n",
       "      <td>5575-GNVDE</td>\n",
       "      <td>Male</td>\n",
       "      <td>0</td>\n",
       "      <td>No</td>\n",
       "      <td>No</td>\n",
       "      <td>34</td>\n",
       "      <td>Yes</td>\n",
       "      <td>No</td>\n",
       "      <td>DSL</td>\n",
       "      <td>Yes</td>\n",
       "      <td>No</td>\n",
       "      <td>Yes</td>\n",
       "      <td>No</td>\n",
       "      <td>No</td>\n",
       "      <td>No</td>\n",
       "      <td>One year</td>\n",
       "      <td>No</td>\n",
       "      <td>Mailed check</td>\n",
       "      <td>56.95</td>\n",
       "      <td>1889.5</td>\n",
       "      <td>No</td>\n",
       "    </tr>\n",
       "    <tr>\n",
       "      <th>2</th>\n",
       "      <td>3668-QPYBK</td>\n",
       "      <td>Male</td>\n",
       "      <td>0</td>\n",
       "      <td>No</td>\n",
       "      <td>No</td>\n",
       "      <td>2</td>\n",
       "      <td>Yes</td>\n",
       "      <td>No</td>\n",
       "      <td>DSL</td>\n",
       "      <td>Yes</td>\n",
       "      <td>Yes</td>\n",
       "      <td>No</td>\n",
       "      <td>No</td>\n",
       "      <td>No</td>\n",
       "      <td>No</td>\n",
       "      <td>Month-to-month</td>\n",
       "      <td>Yes</td>\n",
       "      <td>Mailed check</td>\n",
       "      <td>53.85</td>\n",
       "      <td>108.15</td>\n",
       "      <td>Yes</td>\n",
       "    </tr>\n",
       "    <tr>\n",
       "      <th>3</th>\n",
       "      <td>7795-CFOCW</td>\n",
       "      <td>Male</td>\n",
       "      <td>0</td>\n",
       "      <td>No</td>\n",
       "      <td>No</td>\n",
       "      <td>45</td>\n",
       "      <td>No</td>\n",
       "      <td>No phone service</td>\n",
       "      <td>DSL</td>\n",
       "      <td>Yes</td>\n",
       "      <td>No</td>\n",
       "      <td>Yes</td>\n",
       "      <td>Yes</td>\n",
       "      <td>No</td>\n",
       "      <td>No</td>\n",
       "      <td>One year</td>\n",
       "      <td>No</td>\n",
       "      <td>Bank transfer (automatic)</td>\n",
       "      <td>42.30</td>\n",
       "      <td>1840.75</td>\n",
       "      <td>No</td>\n",
       "    </tr>\n",
       "    <tr>\n",
       "      <th>4</th>\n",
       "      <td>9237-HQITU</td>\n",
       "      <td>Female</td>\n",
       "      <td>0</td>\n",
       "      <td>No</td>\n",
       "      <td>No</td>\n",
       "      <td>2</td>\n",
       "      <td>Yes</td>\n",
       "      <td>No</td>\n",
       "      <td>Fiber optic</td>\n",
       "      <td>No</td>\n",
       "      <td>No</td>\n",
       "      <td>No</td>\n",
       "      <td>No</td>\n",
       "      <td>No</td>\n",
       "      <td>No</td>\n",
       "      <td>Month-to-month</td>\n",
       "      <td>Yes</td>\n",
       "      <td>Electronic check</td>\n",
       "      <td>70.70</td>\n",
       "      <td>151.65</td>\n",
       "      <td>Yes</td>\n",
       "    </tr>\n",
       "  </tbody>\n",
       "</table>\n",
       "</div>"
      ],
      "text/plain": [
       "   customerID  gender  SeniorCitizen Partner Dependents  tenure PhoneService  \\\n",
       "0  7590-VHVEG  Female              0     Yes         No       1           No   \n",
       "1  5575-GNVDE    Male              0      No         No      34          Yes   \n",
       "2  3668-QPYBK    Male              0      No         No       2          Yes   \n",
       "3  7795-CFOCW    Male              0      No         No      45           No   \n",
       "4  9237-HQITU  Female              0      No         No       2          Yes   \n",
       "\n",
       "      MultipleLines InternetService OnlineSecurity OnlineBackup  \\\n",
       "0  No phone service             DSL             No          Yes   \n",
       "1                No             DSL            Yes           No   \n",
       "2                No             DSL            Yes          Yes   \n",
       "3  No phone service             DSL            Yes           No   \n",
       "4                No     Fiber optic             No           No   \n",
       "\n",
       "  DeviceProtection TechSupport StreamingTV StreamingMovies        Contract  \\\n",
       "0               No          No          No              No  Month-to-month   \n",
       "1              Yes          No          No              No        One year   \n",
       "2               No          No          No              No  Month-to-month   \n",
       "3              Yes         Yes          No              No        One year   \n",
       "4               No          No          No              No  Month-to-month   \n",
       "\n",
       "  PaperlessBilling              PaymentMethod  MonthlyCharges TotalCharges  \\\n",
       "0              Yes           Electronic check           29.85        29.85   \n",
       "1               No               Mailed check           56.95       1889.5   \n",
       "2              Yes               Mailed check           53.85       108.15   \n",
       "3               No  Bank transfer (automatic)           42.30      1840.75   \n",
       "4              Yes           Electronic check           70.70       151.65   \n",
       "\n",
       "  Churn  \n",
       "0    No  \n",
       "1    No  \n",
       "2   Yes  \n",
       "3    No  \n",
       "4   Yes  "
      ]
     },
     "execution_count": 167,
     "metadata": {},
     "output_type": "execute_result"
    }
   ],
   "source": [
    "import pandas as pd\n",
    "df = pd.read_csv('telco_churn.csv')\n",
    "df.head()"
   ]
  },
  {
   "cell_type": "code",
   "execution_count": 168,
   "metadata": {},
   "outputs": [],
   "source": [
    "pd.set_option('display.max_columns', df.shape[1])"
   ]
  },
  {
   "cell_type": "code",
   "execution_count": 169,
   "metadata": {},
   "outputs": [
    {
     "name": "stdout",
     "output_type": "stream",
     "text": [
      "<class 'pandas.core.frame.DataFrame'>\n",
      "RangeIndex: 7043 entries, 0 to 7042\n",
      "Data columns (total 21 columns):\n",
      " #   Column            Non-Null Count  Dtype  \n",
      "---  ------            --------------  -----  \n",
      " 0   customerID        7043 non-null   object \n",
      " 1   gender            7043 non-null   object \n",
      " 2   SeniorCitizen     7043 non-null   int64  \n",
      " 3   Partner           7043 non-null   object \n",
      " 4   Dependents        7043 non-null   object \n",
      " 5   tenure            7043 non-null   int64  \n",
      " 6   PhoneService      7043 non-null   object \n",
      " 7   MultipleLines     7043 non-null   object \n",
      " 8   InternetService   7043 non-null   object \n",
      " 9   OnlineSecurity    7043 non-null   object \n",
      " 10  OnlineBackup      7043 non-null   object \n",
      " 11  DeviceProtection  7043 non-null   object \n",
      " 12  TechSupport       7043 non-null   object \n",
      " 13  StreamingTV       7043 non-null   object \n",
      " 14  StreamingMovies   7043 non-null   object \n",
      " 15  Contract          7043 non-null   object \n",
      " 16  PaperlessBilling  7043 non-null   object \n",
      " 17  PaymentMethod     7043 non-null   object \n",
      " 18  MonthlyCharges    7043 non-null   float64\n",
      " 19  TotalCharges      7043 non-null   object \n",
      " 20  Churn             7043 non-null   object \n",
      "dtypes: float64(1), int64(2), object(18)\n",
      "memory usage: 1.1+ MB\n"
     ]
    }
   ],
   "source": [
    "df.info()"
   ]
  },
  {
   "cell_type": "code",
   "execution_count": 170,
   "metadata": {},
   "outputs": [],
   "source": [
    "del df['customerID']"
   ]
  },
  {
   "cell_type": "code",
   "execution_count": 171,
   "metadata": {},
   "outputs": [],
   "source": [
    "#df['TotalCharges'] = pd.to_numeric(df['TotalCharges'])"
   ]
  },
  {
   "cell_type": "code",
   "execution_count": 172,
   "metadata": {},
   "outputs": [],
   "source": [
    "df = df.replace(r'^\\s+$', 0, regex=True)"
   ]
  },
  {
   "cell_type": "code",
   "execution_count": 173,
   "metadata": {},
   "outputs": [],
   "source": [
    "df['TotalCharges'] = pd.to_numeric(df['TotalCharges'])"
   ]
  },
  {
   "cell_type": "code",
   "execution_count": 174,
   "metadata": {},
   "outputs": [],
   "source": [
    "df = pd.get_dummies(df)"
   ]
  },
  {
   "cell_type": "code",
   "execution_count": 176,
   "metadata": {},
   "outputs": [],
   "source": [
    "del df['Churn_No']"
   ]
  },
  {
   "cell_type": "code",
   "execution_count": 177,
   "metadata": {},
   "outputs": [],
   "source": [
    "from xgboost import XGBClassifier\n",
    "from sklearn.model_selection import train_test_split\n",
    "from sklearn.metrics import accuracy_score"
   ]
  },
  {
   "cell_type": "code",
   "execution_count": 178,
   "metadata": {},
   "outputs": [],
   "source": [
    "# Split data into X and y\n",
    "X = df.iloc[:, :-1]\n",
    "y = df.iloc[:, -1]\n",
    "\n",
    "# Split data into train and test sets\n",
    "X_train, X_test, y_train, y_test = train_test_split(X, y, random_state=2)"
   ]
  },
  {
   "cell_type": "code",
   "execution_count": 179,
   "metadata": {},
   "outputs": [
    {
     "name": "stdout",
     "output_type": "stream",
     "text": [
      "Score: 0.8091993185689949\n"
     ]
    }
   ],
   "source": [
    "xgb = XGBClassifier(booster='gbtree', objective='binary:logistic',random_state=2, n_jobs=-1)\n",
    "xgb.fit(X_train, y_train)\n",
    "y_pred = xgb.predict(X_test)\n",
    "score = accuracy_score(y_pred, y_test)\n",
    "print('Score: ' + str(score))"
   ]
  },
  {
   "cell_type": "code",
   "execution_count": 180,
   "metadata": {},
   "outputs": [
    {
     "name": "stdout",
     "output_type": "stream",
     "text": [
      "Score: 0.8091993185689949\n"
     ]
    }
   ],
   "source": [
    "xgb = XGBClassifier(random_state=2, n_jobs=-1)\n",
    "xgb.fit(X_train, y_train)\n",
    "y_pred = xgb.predict(X_test)\n",
    "score = accuracy_score(y_pred, y_test)\n",
    "print('Score: ' + str(score))"
   ]
  },
  {
   "cell_type": "code",
   "execution_count": 181,
   "metadata": {},
   "outputs": [],
   "source": [
    "# Import GridSearchCV\n",
    "from sklearn.model_selection import GridSearchCV, RandomizedSearchCV"
   ]
  },
  {
   "cell_type": "code",
   "execution_count": 215,
   "metadata": {},
   "outputs": [],
   "source": [
    "def grid_search(params, random=False): \n",
    "    \n",
    "    xgb = XGBClassifier(booster='gbtree', objective='binary:logistic', random_state=2)\n",
    "    \n",
    "    if random:\n",
    "        grid = RandomizedSearchCV(xgb, params, cv=5, n_jobs=-1, random_state=2)\n",
    "    else:\n",
    "        # Instantiate GridSearchCV as grid_reg\n",
    "        grid = GridSearchCV(xgb, params, cv=5, n_jobs=-1)\n",
    "    \n",
    "    # Fit grid_reg on X_train and y_train\n",
    "    grid.fit(X_train, y_train)\n",
    "\n",
    "    # Extract best params\n",
    "    best_params = grid.best_params_\n",
    "\n",
    "    # Print best params\n",
    "    print(\"Best params:\", best_params)\n",
    "    \n",
    "    # Compute best score\n",
    "    best_score = grid.best_score_\n",
    "\n",
    "    # Print best score\n",
    "    print(\"Training score: {:.5f}\".format(best_score))\n",
    "\n",
    "    # Predict test set labels\n",
    "    y_pred = grid.predict(X_test)\n",
    "\n",
    "    # Compute rmse_test\n",
    "    acc = accuracy_score(y_test, y_pred)\n",
    "\n",
    "    # Print rmse_test\n",
    "    print('Test score: {:.5f}'.format(acc))"
   ]
  },
  {
   "cell_type": "code",
   "execution_count": 216,
   "metadata": {},
   "outputs": [
    {
     "name": "stdout",
     "output_type": "stream",
     "text": [
      "Best params: {'n_estimators': 100}\n",
      "Training score: 0.79800\n",
      "Test score: 0.80920\n"
     ]
    }
   ],
   "source": [
    "grid_search(params={'n_estimators':[100, 200, 400, 800]})"
   ]
  },
  {
   "cell_type": "code",
   "execution_count": 217,
   "metadata": {},
   "outputs": [
    {
     "name": "stdout",
     "output_type": "stream",
     "text": [
      "Best params: {'learning_rate': 0.05}\n",
      "Training score: 0.79875\n",
      "Test score: 0.80693\n"
     ]
    }
   ],
   "source": [
    "grid_search(params={'learning_rate':[0.01, 0.05, 0.1, 0.2, 0.3]})"
   ]
  },
  {
   "cell_type": "code",
   "execution_count": 218,
   "metadata": {},
   "outputs": [
    {
     "name": "stdout",
     "output_type": "stream",
     "text": [
      "Best params: {'max_depth': 2}\n",
      "Training score: 0.80083\n",
      "Test score: 0.80863\n"
     ]
    }
   ],
   "source": [
    "grid_search(params={'max_depth':[2, 3, 5, 6, 8]})"
   ]
  },
  {
   "cell_type": "code",
   "execution_count": 219,
   "metadata": {},
   "outputs": [
    {
     "name": "stdout",
     "output_type": "stream",
     "text": [
      "Best params: {'gamma': 0.5}\n",
      "Training score: 0.80102\n",
      "Test score: 0.80693\n"
     ]
    }
   ],
   "source": [
    "grid_search(params={'gamma':[0, 0.01, 0.1, 0.5, 1, 2]})"
   ]
  },
  {
   "cell_type": "code",
   "execution_count": 221,
   "metadata": {},
   "outputs": [
    {
     "name": "stdout",
     "output_type": "stream",
     "text": [
      "Best params: {'min_child_weight': 3}\n",
      "Training score: 0.80197\n",
      "Test score: 0.80352\n"
     ]
    }
   ],
   "source": [
    "grid_search(params={'min_child_weight':[0.5, 1, 2, 3, 5]})"
   ]
  },
  {
   "cell_type": "code",
   "execution_count": 222,
   "metadata": {},
   "outputs": [
    {
     "name": "stdout",
     "output_type": "stream",
     "text": [
      "Best params: {'subsample': 0.7}\n",
      "Training score: 0.80083\n",
      "Test score: 0.80522\n"
     ]
    }
   ],
   "source": [
    "grid_search(params={'subsample':[0.5, 0.7, 0.8, 0.9, 1]})"
   ]
  },
  {
   "cell_type": "code",
   "execution_count": 223,
   "metadata": {},
   "outputs": [
    {
     "name": "stdout",
     "output_type": "stream",
     "text": [
      "Best params: {'colsample_bytree': 0.9}\n",
      "Training score: 0.80027\n",
      "Test score: 0.80806\n"
     ]
    }
   ],
   "source": [
    "grid_search(params={'colsample_bytree':[0.5, 0.7, 0.8, 0.9, 1]})"
   ]
  },
  {
   "cell_type": "code",
   "execution_count": 230,
   "metadata": {},
   "outputs": [
    {
     "name": "stdout",
     "output_type": "stream",
     "text": [
      "[0]\tvalidation_0-error:0.212947\n",
      "[1]\tvalidation_0-error:0.210108\n",
      "[2]\tvalidation_0-error:0.204997\n",
      "[3]\tvalidation_0-error:0.210108\n",
      "[4]\tvalidation_0-error:0.202726\n",
      "[5]\tvalidation_0-error:0.20159\n",
      "[6]\tvalidation_0-error:0.203861\n",
      "[7]\tvalidation_0-error:0.200454\n",
      "[8]\tvalidation_0-error:0.201022\n",
      "[9]\tvalidation_0-error:0.201022\n",
      "[10]\tvalidation_0-error:0.20159\n",
      "[11]\tvalidation_0-error:0.202158\n",
      "[12]\tvalidation_0-error:0.202158\n",
      "[13]\tvalidation_0-error:0.203861\n",
      "[14]\tvalidation_0-error:0.204997\n",
      "[15]\tvalidation_0-error:0.202726\n",
      "[16]\tvalidation_0-error:0.20159\n",
      "[17]\tvalidation_0-error:0.201022\n",
      "[18]\tvalidation_0-error:0.201022\n",
      "[19]\tvalidation_0-error:0.200454\n",
      "[20]\tvalidation_0-error:0.197615\n",
      "[21]\tvalidation_0-error:0.197615\n",
      "[22]\tvalidation_0-error:0.197615\n",
      "[23]\tvalidation_0-error:0.198183\n",
      "[24]\tvalidation_0-error:0.197047\n",
      "[25]\tvalidation_0-error:0.196479\n",
      "[26]\tvalidation_0-error:0.196479\n",
      "[27]\tvalidation_0-error:0.197047\n",
      "[28]\tvalidation_0-error:0.196479\n",
      "[29]\tvalidation_0-error:0.195344\n",
      "[30]\tvalidation_0-error:0.195911\n",
      "[31]\tvalidation_0-error:0.194208\n",
      "[32]\tvalidation_0-error:0.195911\n",
      "[33]\tvalidation_0-error:0.196479\n",
      "[34]\tvalidation_0-error:0.194776\n",
      "[35]\tvalidation_0-error:0.194776\n",
      "[36]\tvalidation_0-error:0.194208\n",
      "[37]\tvalidation_0-error:0.195911\n",
      "[38]\tvalidation_0-error:0.192504\n",
      "[39]\tvalidation_0-error:0.193072\n",
      "[40]\tvalidation_0-error:0.193072\n",
      "[41]\tvalidation_0-error:0.19364\n",
      "[42]\tvalidation_0-error:0.191936\n",
      "[43]\tvalidation_0-error:0.193072\n",
      "[44]\tvalidation_0-error:0.192504\n",
      "[45]\tvalidation_0-error:0.191936\n",
      "[46]\tvalidation_0-error:0.191936\n",
      "[47]\tvalidation_0-error:0.191936\n",
      "[48]\tvalidation_0-error:0.191369\n",
      "[49]\tvalidation_0-error:0.191936\n",
      "[50]\tvalidation_0-error:0.192504\n",
      "[51]\tvalidation_0-error:0.192504\n",
      "[52]\tvalidation_0-error:0.193072\n",
      "[53]\tvalidation_0-error:0.193072\n",
      "[54]\tvalidation_0-error:0.19364\n",
      "[55]\tvalidation_0-error:0.19364\n",
      "[56]\tvalidation_0-error:0.19364\n",
      "[57]\tvalidation_0-error:0.192504\n",
      "[58]\tvalidation_0-error:0.194776\n",
      "[59]\tvalidation_0-error:0.194208\n",
      "[60]\tvalidation_0-error:0.194208\n",
      "[61]\tvalidation_0-error:0.194776\n",
      "[62]\tvalidation_0-error:0.194776\n",
      "[63]\tvalidation_0-error:0.194776\n",
      "[64]\tvalidation_0-error:0.194776\n",
      "[65]\tvalidation_0-error:0.194208\n",
      "[66]\tvalidation_0-error:0.196479\n",
      "[67]\tvalidation_0-error:0.196479\n",
      "[68]\tvalidation_0-error:0.195344\n",
      "[69]\tvalidation_0-error:0.195344\n",
      "[70]\tvalidation_0-error:0.195344\n",
      "[71]\tvalidation_0-error:0.195344\n",
      "[72]\tvalidation_0-error:0.195911\n",
      "[73]\tvalidation_0-error:0.194208\n",
      "[74]\tvalidation_0-error:0.194776\n",
      "[75]\tvalidation_0-error:0.194208\n",
      "[76]\tvalidation_0-error:0.194208\n",
      "[77]\tvalidation_0-error:0.193072\n",
      "[78]\tvalidation_0-error:0.193072\n",
      "[79]\tvalidation_0-error:0.193072\n",
      "[80]\tvalidation_0-error:0.195344\n",
      "[81]\tvalidation_0-error:0.194776\n",
      "[82]\tvalidation_0-error:0.194776\n",
      "[83]\tvalidation_0-error:0.195344\n",
      "[84]\tvalidation_0-error:0.195344\n",
      "[85]\tvalidation_0-error:0.195344\n",
      "[86]\tvalidation_0-error:0.194776\n",
      "[87]\tvalidation_0-error:0.194776\n",
      "[88]\tvalidation_0-error:0.194776\n",
      "[89]\tvalidation_0-error:0.19364\n",
      "[90]\tvalidation_0-error:0.194776\n",
      "[91]\tvalidation_0-error:0.194208\n",
      "[92]\tvalidation_0-error:0.19364\n",
      "[93]\tvalidation_0-error:0.19364\n",
      "[94]\tvalidation_0-error:0.19364\n",
      "[95]\tvalidation_0-error:0.192504\n",
      "[96]\tvalidation_0-error:0.193072\n",
      "[97]\tvalidation_0-error:0.193072\n",
      "[98]\tvalidation_0-error:0.192504\n",
      "[99]\tvalidation_0-error:0.190801\n",
      "Accuracy: 80.92%\n"
     ]
    }
   ],
   "source": [
    "model = XGBClassifier(random_state=2)\n",
    "eval_set = [(X_test, y_test)]\n",
    "eval_metric='error'\n",
    "model.fit(X_train, y_train, eval_metric=eval_metric, eval_set=eval_set)\n",
    "# make predictions for test data\n",
    "y_pred = model.predict(X_test)\n",
    "# evaluate predictions\n",
    "accuracy = accuracy_score(y_test, y_pred)\n",
    "print(\"Accuracy: %.2f%%\" % (accuracy * 100.0))"
   ]
  },
  {
   "cell_type": "code",
   "execution_count": 226,
   "metadata": {},
   "outputs": [
    {
     "name": "stdout",
     "output_type": "stream",
     "text": [
      "[0]\tvalidation_0-error:0.212947\n",
      "Will train until validation_0-error hasn't improved in 10 rounds.\n",
      "[1]\tvalidation_0-error:0.210108\n",
      "[2]\tvalidation_0-error:0.204997\n",
      "[3]\tvalidation_0-error:0.210108\n",
      "[4]\tvalidation_0-error:0.202726\n",
      "[5]\tvalidation_0-error:0.20159\n",
      "[6]\tvalidation_0-error:0.203861\n",
      "[7]\tvalidation_0-error:0.200454\n",
      "[8]\tvalidation_0-error:0.201022\n",
      "[9]\tvalidation_0-error:0.201022\n",
      "[10]\tvalidation_0-error:0.20159\n",
      "[11]\tvalidation_0-error:0.202158\n",
      "[12]\tvalidation_0-error:0.202158\n",
      "[13]\tvalidation_0-error:0.203861\n",
      "[14]\tvalidation_0-error:0.204997\n",
      "[15]\tvalidation_0-error:0.202726\n",
      "[16]\tvalidation_0-error:0.20159\n",
      "[17]\tvalidation_0-error:0.201022\n",
      "Stopping. Best iteration:\n",
      "[7]\tvalidation_0-error:0.200454\n",
      "\n",
      "Accuracy: 79.95%\n"
     ]
    }
   ],
   "source": [
    "model = XGBClassifier(random_state=2)\n",
    "eval_set = [(X_test, y_test)]\n",
    "model.fit(X_train, y_train, eval_metric=\"error\", eval_set=eval_set, early_stopping_rounds=10, verbose=True)\n",
    "# make predictions for test data\n",
    "y_pred = model.predict(X_test)\n",
    "# evaluate predictions\n",
    "accuracy = accuracy_score(y_test, y_pred)\n",
    "print(\"Accuracy: %.2f%%\" % (accuracy * 100.0))"
   ]
  },
  {
   "cell_type": "code",
   "execution_count": 234,
   "metadata": {},
   "outputs": [
    {
     "name": "stdout",
     "output_type": "stream",
     "text": [
      "[0]\tvalidation_0-error:0.212947\n",
      "Will train until validation_0-error hasn't improved in 50 rounds.\n",
      "[1]\tvalidation_0-error:0.210108\n",
      "[2]\tvalidation_0-error:0.204997\n",
      "[3]\tvalidation_0-error:0.210108\n",
      "[4]\tvalidation_0-error:0.202726\n",
      "[5]\tvalidation_0-error:0.20159\n",
      "[6]\tvalidation_0-error:0.203861\n",
      "[7]\tvalidation_0-error:0.200454\n",
      "[8]\tvalidation_0-error:0.201022\n",
      "[9]\tvalidation_0-error:0.201022\n",
      "[10]\tvalidation_0-error:0.20159\n",
      "[11]\tvalidation_0-error:0.202158\n",
      "[12]\tvalidation_0-error:0.202158\n",
      "[13]\tvalidation_0-error:0.203861\n",
      "[14]\tvalidation_0-error:0.204997\n",
      "[15]\tvalidation_0-error:0.202726\n",
      "[16]\tvalidation_0-error:0.20159\n",
      "[17]\tvalidation_0-error:0.201022\n",
      "[18]\tvalidation_0-error:0.201022\n",
      "[19]\tvalidation_0-error:0.200454\n",
      "[20]\tvalidation_0-error:0.197615\n",
      "[21]\tvalidation_0-error:0.197615\n",
      "[22]\tvalidation_0-error:0.197615\n",
      "[23]\tvalidation_0-error:0.198183\n",
      "[24]\tvalidation_0-error:0.197047\n",
      "[25]\tvalidation_0-error:0.196479\n",
      "[26]\tvalidation_0-error:0.196479\n",
      "[27]\tvalidation_0-error:0.197047\n",
      "[28]\tvalidation_0-error:0.196479\n",
      "[29]\tvalidation_0-error:0.195344\n",
      "[30]\tvalidation_0-error:0.195911\n",
      "[31]\tvalidation_0-error:0.194208\n",
      "[32]\tvalidation_0-error:0.195911\n",
      "[33]\tvalidation_0-error:0.196479\n",
      "[34]\tvalidation_0-error:0.194776\n",
      "[35]\tvalidation_0-error:0.194776\n",
      "[36]\tvalidation_0-error:0.194208\n",
      "[37]\tvalidation_0-error:0.195911\n",
      "[38]\tvalidation_0-error:0.192504\n",
      "[39]\tvalidation_0-error:0.193072\n",
      "[40]\tvalidation_0-error:0.193072\n",
      "[41]\tvalidation_0-error:0.19364\n",
      "[42]\tvalidation_0-error:0.191936\n",
      "[43]\tvalidation_0-error:0.193072\n",
      "[44]\tvalidation_0-error:0.192504\n",
      "[45]\tvalidation_0-error:0.191936\n",
      "[46]\tvalidation_0-error:0.191936\n",
      "[47]\tvalidation_0-error:0.191936\n",
      "[48]\tvalidation_0-error:0.191369\n",
      "[49]\tvalidation_0-error:0.191936\n",
      "[50]\tvalidation_0-error:0.192504\n",
      "[51]\tvalidation_0-error:0.192504\n",
      "[52]\tvalidation_0-error:0.193072\n",
      "[53]\tvalidation_0-error:0.193072\n",
      "[54]\tvalidation_0-error:0.19364\n",
      "[55]\tvalidation_0-error:0.19364\n",
      "[56]\tvalidation_0-error:0.19364\n",
      "[57]\tvalidation_0-error:0.192504\n",
      "[58]\tvalidation_0-error:0.194776\n",
      "[59]\tvalidation_0-error:0.194208\n",
      "[60]\tvalidation_0-error:0.194208\n",
      "[61]\tvalidation_0-error:0.194776\n",
      "[62]\tvalidation_0-error:0.194776\n",
      "[63]\tvalidation_0-error:0.194776\n",
      "[64]\tvalidation_0-error:0.194776\n",
      "[65]\tvalidation_0-error:0.194208\n",
      "[66]\tvalidation_0-error:0.196479\n",
      "[67]\tvalidation_0-error:0.196479\n",
      "[68]\tvalidation_0-error:0.195344\n",
      "[69]\tvalidation_0-error:0.195344\n",
      "[70]\tvalidation_0-error:0.195344\n",
      "[71]\tvalidation_0-error:0.195344\n",
      "[72]\tvalidation_0-error:0.195911\n",
      "[73]\tvalidation_0-error:0.194208\n",
      "[74]\tvalidation_0-error:0.194776\n",
      "[75]\tvalidation_0-error:0.194208\n",
      "[76]\tvalidation_0-error:0.194208\n",
      "[77]\tvalidation_0-error:0.193072\n",
      "[78]\tvalidation_0-error:0.193072\n",
      "[79]\tvalidation_0-error:0.193072\n",
      "[80]\tvalidation_0-error:0.195344\n",
      "[81]\tvalidation_0-error:0.194776\n",
      "[82]\tvalidation_0-error:0.194776\n",
      "[83]\tvalidation_0-error:0.195344\n",
      "[84]\tvalidation_0-error:0.195344\n",
      "[85]\tvalidation_0-error:0.195344\n",
      "[86]\tvalidation_0-error:0.194776\n",
      "[87]\tvalidation_0-error:0.194776\n",
      "[88]\tvalidation_0-error:0.194776\n",
      "[89]\tvalidation_0-error:0.19364\n",
      "[90]\tvalidation_0-error:0.194776\n",
      "[91]\tvalidation_0-error:0.194208\n",
      "[92]\tvalidation_0-error:0.19364\n",
      "[93]\tvalidation_0-error:0.19364\n",
      "[94]\tvalidation_0-error:0.19364\n",
      "[95]\tvalidation_0-error:0.192504\n",
      "[96]\tvalidation_0-error:0.193072\n",
      "[97]\tvalidation_0-error:0.193072\n",
      "[98]\tvalidation_0-error:0.192504\n",
      "Stopping. Best iteration:\n",
      "[48]\tvalidation_0-error:0.191369\n",
      "\n",
      "Accuracy: 80.86%\n"
     ]
    }
   ],
   "source": [
    "model = XGBClassifier(random_state=2, n_estimators=5000)\n",
    "eval_set = [(X_test, y_test)]\n",
    "model.fit(X_train, y_train, eval_metric=\"error\", eval_set=eval_set, early_stopping_rounds=50)\n",
    "# make predictions for test data\n",
    "y_pred = model.predict(X_test)\n",
    "# evaluate predictions\n",
    "accuracy = accuracy_score(y_test, y_pred)\n",
    "print(\"Accuracy: %.2f%%\" % (accuracy * 100.0))"
   ]
  },
  {
   "cell_type": "code",
   "execution_count": 237,
   "metadata": {},
   "outputs": [
    {
     "name": "stdout",
     "output_type": "stream",
     "text": [
      "Best params: {'n_estimators': 48, 'max_depth': 2, 'learning_rate': 0.3, 'gamma': 0.1}\n",
      "Training score: 0.79913\n",
      "Test score: 0.80352\n"
     ]
    }
   ],
   "source": [
    "grid_search(params={'max_depth':[2, 3, 5, 6, 8], 'gamma':[0, 0.1, 0.5, 1, 2, 5], \n",
    "                    'learning_rate':[0.01, 0.05, 0.1, 0.2, 0.3], 'n_estimators':[48]}, random=True)"
   ]
  },
  {
   "cell_type": "code",
   "execution_count": 239,
   "metadata": {},
   "outputs": [
    {
     "name": "stdout",
     "output_type": "stream",
     "text": [
      "Best params: {'max_depth': 3, 'n_estimators': 48}\n",
      "Training score: 0.80008\n",
      "Test score: 0.80806\n"
     ]
    }
   ],
   "source": [
    "grid_search(params={'max_depth':[2, 3, 4, 5, 6, 7, 8], 'n_estimators':[48]})"
   ]
  },
  {
   "cell_type": "code",
   "execution_count": 241,
   "metadata": {},
   "outputs": [
    {
     "name": "stdout",
     "output_type": "stream",
     "text": [
      "Best params: {'learning_rate': 0.1, 'max_depth': 3, 'n_estimators': 48}\n",
      "Training score: 0.80008\n",
      "Test score: 0.80806\n"
     ]
    }
   ],
   "source": [
    "grid_search(params={'learning_rate':[0.01, 0.05, 0.1, 0.2, 0.3, 0.3], 'max_depth':[3], 'n_estimators':[48]})"
   ]
  },
  {
   "cell_type": "code",
   "execution_count": 243,
   "metadata": {},
   "outputs": [
    {
     "name": "stdout",
     "output_type": "stream",
     "text": [
      "Best params: {'learning_rate': 0.09, 'max_depth': 3, 'n_estimators': 48}\n",
      "Training score: 0.80027\n",
      "Test score: 0.80295\n"
     ]
    }
   ],
   "source": [
    "grid_search(params={'learning_rate':[0.08, 0.09, 0.1, 0.11, 0.12], 'max_depth':[3], 'n_estimators':[48]})"
   ]
  },
  {
   "cell_type": "code",
   "execution_count": 244,
   "metadata": {},
   "outputs": [
    {
     "name": "stdout",
     "output_type": "stream",
     "text": [
      "Best params: {'max_depth': 3, 'min_child_weight': 5, 'n_estimators': 48}\n",
      "Training score: 0.80121\n",
      "Test score: 0.80522\n"
     ]
    }
   ],
   "source": [
    "grid_search(params={'min_child_weight':[0.5, 1, 2, 3, 4, 5], 'max_depth':[3], 'n_estimators':[48]})"
   ]
  },
  {
   "cell_type": "code",
   "execution_count": 248,
   "metadata": {},
   "outputs": [
    {
     "name": "stdout",
     "output_type": "stream",
     "text": [
      "Best params: {'max_depth': 3, 'min_child_weight': 5, 'n_estimators': 48, 'subsample': 0.7}\n",
      "Training score: 0.80159\n",
      "Test score: 0.81090\n"
     ]
    }
   ],
   "source": [
    "grid_search(params={'subsample':[0.5, 0.5, 0.7, 0.8, 0.9, 1], 'min_child_weight':[5], 'max_depth':[3], 'n_estimators':[48]})"
   ]
  },
  {
   "cell_type": "code",
   "execution_count": 249,
   "metadata": {},
   "outputs": [
    {
     "name": "stdout",
     "output_type": "stream",
     "text": [
      "Best params: {'colsample_bytree': 0.7, 'max_depth': 3, 'min_child_weight': 5, 'n_estimators': 48, 'subsample': 0.7}\n",
      "Training score: 0.80273\n",
      "Test score: 0.80920\n"
     ]
    }
   ],
   "source": [
    "grid_search(params={'colsample_bytree':[0.5, 0.5, 0.7, 0.8, 0.9, 1], 'subsample':[0.7], \n",
    "                    'min_child_weight':[5], 'max_depth':[3], 'n_estimators':[48]})"
   ]
  },
  {
   "cell_type": "code",
   "execution_count": 250,
   "metadata": {},
   "outputs": [
    {
     "name": "stdout",
     "output_type": "stream",
     "text": [
      "[0]\tvalidation_0-error:0.215219\n",
      "Will train until validation_0-error hasn't improved in 50 rounds.\n",
      "[1]\tvalidation_0-error:0.206701\n",
      "[2]\tvalidation_0-error:0.206701\n",
      "[3]\tvalidation_0-error:0.204429\n",
      "[4]\tvalidation_0-error:0.201022\n",
      "[5]\tvalidation_0-error:0.200454\n",
      "[6]\tvalidation_0-error:0.198183\n",
      "[7]\tvalidation_0-error:0.199319\n",
      "[8]\tvalidation_0-error:0.203861\n",
      "[9]\tvalidation_0-error:0.198183\n",
      "[10]\tvalidation_0-error:0.198751\n",
      "[11]\tvalidation_0-error:0.199319\n",
      "[12]\tvalidation_0-error:0.200454\n",
      "[13]\tvalidation_0-error:0.200454\n",
      "[14]\tvalidation_0-error:0.202726\n",
      "[15]\tvalidation_0-error:0.199319\n",
      "[16]\tvalidation_0-error:0.195344\n",
      "[17]\tvalidation_0-error:0.195911\n",
      "[18]\tvalidation_0-error:0.196479\n",
      "[19]\tvalidation_0-error:0.198751\n",
      "[20]\tvalidation_0-error:0.197047\n",
      "[21]\tvalidation_0-error:0.195344\n",
      "[22]\tvalidation_0-error:0.197047\n",
      "[23]\tvalidation_0-error:0.197047\n",
      "[24]\tvalidation_0-error:0.197615\n",
      "[25]\tvalidation_0-error:0.196479\n",
      "[26]\tvalidation_0-error:0.196479\n",
      "[27]\tvalidation_0-error:0.195344\n",
      "[28]\tvalidation_0-error:0.195911\n",
      "[29]\tvalidation_0-error:0.196479\n",
      "[30]\tvalidation_0-error:0.195344\n",
      "[31]\tvalidation_0-error:0.19364\n",
      "[32]\tvalidation_0-error:0.191936\n",
      "[33]\tvalidation_0-error:0.193072\n",
      "[34]\tvalidation_0-error:0.194208\n",
      "[35]\tvalidation_0-error:0.193072\n",
      "[36]\tvalidation_0-error:0.194776\n",
      "[37]\tvalidation_0-error:0.195344\n",
      "[38]\tvalidation_0-error:0.19364\n",
      "[39]\tvalidation_0-error:0.193072\n",
      "[40]\tvalidation_0-error:0.19364\n",
      "[41]\tvalidation_0-error:0.191936\n",
      "[42]\tvalidation_0-error:0.192504\n",
      "[43]\tvalidation_0-error:0.194776\n",
      "[44]\tvalidation_0-error:0.193072\n",
      "[45]\tvalidation_0-error:0.19364\n",
      "[46]\tvalidation_0-error:0.193072\n",
      "[47]\tvalidation_0-error:0.190801\n",
      "[48]\tvalidation_0-error:0.190233\n",
      "[49]\tvalidation_0-error:0.189665\n",
      "[50]\tvalidation_0-error:0.189665\n",
      "[51]\tvalidation_0-error:0.189097\n",
      "[52]\tvalidation_0-error:0.189097\n",
      "[53]\tvalidation_0-error:0.187961\n",
      "[54]\tvalidation_0-error:0.187961\n",
      "[55]\tvalidation_0-error:0.190801\n",
      "[56]\tvalidation_0-error:0.190233\n",
      "[57]\tvalidation_0-error:0.189665\n",
      "[58]\tvalidation_0-error:0.190233\n",
      "[59]\tvalidation_0-error:0.189097\n",
      "[60]\tvalidation_0-error:0.192504\n",
      "[61]\tvalidation_0-error:0.191936\n",
      "[62]\tvalidation_0-error:0.192504\n",
      "[63]\tvalidation_0-error:0.191936\n",
      "[64]\tvalidation_0-error:0.191936\n",
      "[65]\tvalidation_0-error:0.189097\n",
      "[66]\tvalidation_0-error:0.188529\n",
      "[67]\tvalidation_0-error:0.188529\n",
      "[68]\tvalidation_0-error:0.189665\n",
      "[69]\tvalidation_0-error:0.189665\n",
      "[70]\tvalidation_0-error:0.190233\n",
      "[71]\tvalidation_0-error:0.190233\n",
      "[72]\tvalidation_0-error:0.191936\n",
      "[73]\tvalidation_0-error:0.191936\n",
      "[74]\tvalidation_0-error:0.192504\n",
      "[75]\tvalidation_0-error:0.191936\n",
      "[76]\tvalidation_0-error:0.190801\n",
      "[77]\tvalidation_0-error:0.191936\n",
      "[78]\tvalidation_0-error:0.191936\n",
      "[79]\tvalidation_0-error:0.190233\n",
      "[80]\tvalidation_0-error:0.190233\n",
      "[81]\tvalidation_0-error:0.187394\n",
      "[82]\tvalidation_0-error:0.189097\n",
      "[83]\tvalidation_0-error:0.189097\n",
      "[84]\tvalidation_0-error:0.189097\n",
      "[85]\tvalidation_0-error:0.189097\n",
      "[86]\tvalidation_0-error:0.189665\n",
      "[87]\tvalidation_0-error:0.191369\n",
      "[88]\tvalidation_0-error:0.191936\n",
      "[89]\tvalidation_0-error:0.190801\n",
      "[90]\tvalidation_0-error:0.190233\n",
      "[91]\tvalidation_0-error:0.189665\n",
      "[92]\tvalidation_0-error:0.189665\n",
      "[93]\tvalidation_0-error:0.189665\n",
      "[94]\tvalidation_0-error:0.190233\n",
      "[95]\tvalidation_0-error:0.189097\n",
      "[96]\tvalidation_0-error:0.190801\n",
      "[97]\tvalidation_0-error:0.189097\n",
      "[98]\tvalidation_0-error:0.189665\n",
      "[99]\tvalidation_0-error:0.190801\n",
      "[100]\tvalidation_0-error:0.191369\n",
      "[101]\tvalidation_0-error:0.190801\n",
      "[102]\tvalidation_0-error:0.190233\n",
      "[103]\tvalidation_0-error:0.191369\n",
      "[104]\tvalidation_0-error:0.190233\n",
      "[105]\tvalidation_0-error:0.190233\n",
      "[106]\tvalidation_0-error:0.191369\n",
      "[107]\tvalidation_0-error:0.190801\n",
      "[108]\tvalidation_0-error:0.190801\n",
      "[109]\tvalidation_0-error:0.191936\n",
      "[110]\tvalidation_0-error:0.191369\n",
      "[111]\tvalidation_0-error:0.190801\n",
      "[112]\tvalidation_0-error:0.193072\n",
      "[113]\tvalidation_0-error:0.195344\n",
      "[114]\tvalidation_0-error:0.196479\n",
      "[115]\tvalidation_0-error:0.197047\n",
      "[116]\tvalidation_0-error:0.197615\n",
      "[117]\tvalidation_0-error:0.197615\n",
      "[118]\tvalidation_0-error:0.195911\n",
      "[119]\tvalidation_0-error:0.197047\n",
      "[120]\tvalidation_0-error:0.196479\n",
      "[121]\tvalidation_0-error:0.195344\n",
      "[122]\tvalidation_0-error:0.195344\n",
      "[123]\tvalidation_0-error:0.195911\n",
      "[124]\tvalidation_0-error:0.197047\n",
      "[125]\tvalidation_0-error:0.194776\n",
      "[126]\tvalidation_0-error:0.194208\n",
      "[127]\tvalidation_0-error:0.19364\n",
      "[128]\tvalidation_0-error:0.19364\n",
      "[129]\tvalidation_0-error:0.19364\n",
      "[130]\tvalidation_0-error:0.192504\n",
      "[131]\tvalidation_0-error:0.192504\n",
      "Stopping. Best iteration:\n",
      "[81]\tvalidation_0-error:0.187394\n",
      "\n",
      "Accuracy: 81.26%\n"
     ]
    }
   ],
   "source": [
    "model = XGBClassifier(max_depth=3, subsample=0.7, min_child_weight=5, colsample_bytree=0.7, \n",
    "                      random_state=2, n_estimators=5000)\n",
    "eval_set = [(X_test, y_test)]\n",
    "model.fit(X_train, y_train, eval_metric=\"error\", eval_set=eval_set, early_stopping_rounds=50)\n",
    "# make predictions for test data\n",
    "y_pred = model.predict(X_test)\n",
    "# evaluate predictions\n",
    "accuracy = accuracy_score(y_test, y_pred)\n",
    "print(\"Accuracy: %.2f%%\" % (accuracy * 100.0))"
   ]
  },
  {
   "cell_type": "code",
   "execution_count": 251,
   "metadata": {},
   "outputs": [
    {
     "name": "stdout",
     "output_type": "stream",
     "text": [
      "Best params: {'colsample_bytree': 0.7, 'learning_rate': 0.05, 'max_depth': 3, 'min_child_weight': 5, 'n_estimators': 81, 'subsample': 0.7}\n",
      "Training score: 0.80026\n",
      "Test score: 0.80750\n"
     ]
    }
   ],
   "source": [
    "grid_search(params={'learning_rate':[0.01, 0.025, 0.05, 0.075, 0.1, 0.2,], 'colsample_bytree':[0.7], \n",
    "                    'subsample':[0.7], 'min_child_weight':[5], 'max_depth':[3], 'n_estimators':[81]})"
   ]
  },
  {
   "cell_type": "code",
   "execution_count": 252,
   "metadata": {},
   "outputs": [
    {
     "name": "stdout",
     "output_type": "stream",
     "text": [
      "Best params: {'colsample_bytree': 0.7, 'max_depth': 3, 'min_child_weight': 5, 'n_estimators': 81, 'subsample': 0.7}\n",
      "Training score: 0.79837\n",
      "Test score: 0.80977\n"
     ]
    }
   ],
   "source": [
    "grid_search(params={'colsample_bytree':[0.7], \n",
    "                    'subsample':[0.7], 'min_child_weight':[5], 'max_depth':[3], 'n_estimators':[81]})"
   ]
  },
  {
   "cell_type": "code",
   "execution_count": null,
   "metadata": {},
   "outputs": [],
   "source": []
  }
 ],
 "metadata": {
  "kernelspec": {
   "display_name": "Python 3",
   "language": "python",
   "name": "python3"
  },
  "language_info": {
   "codemirror_mode": {
    "name": "ipython",
    "version": 3
   },
   "file_extension": ".py",
   "mimetype": "text/x-python",
   "name": "python",
   "nbconvert_exporter": "python",
   "pygments_lexer": "ipython3",
   "version": "3.6.10"
  }
 },
 "nbformat": 4,
 "nbformat_minor": 4
}
